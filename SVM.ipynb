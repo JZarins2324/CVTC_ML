{
 "cells": [
  {
   "cell_type": "code",
   "execution_count": 1,
   "id": "897f94c1",
   "metadata": {},
   "outputs": [],
   "source": [
    "# Import libraries\n",
    "import pandas as pd\n",
    "from sklearn.model_selection import train_test_split\n",
    "from sklearn.preprocessing import StandardScaler\n",
    "from sklearn.svm import SVC\n",
    "from sklearn.metrics import classification_report, confusion_matrix\n",
    "\n",
    "# Import dataset\n",
    "df = pd.read_csv('https://raw.githubusercontent.com/mwaskom/seaborn-data/master/penguins.csv')"
   ]
  },
  {
   "cell_type": "code",
   "execution_count": 2,
   "id": "8f123e5a",
   "metadata": {},
   "outputs": [],
   "source": [
    "# Drop missing rows\n",
    "df.dropna(axis = 0, how = 'any', subset = None, inplace = True)\n",
    "\n",
    "# Convert non-numeric data using one-hot encoding\n",
    "df = pd.get_dummies(df, columns=['sex', 'island'])"
   ]
  },
  {
   "cell_type": "code",
   "execution_count": 3,
   "id": "98af9895",
   "metadata": {},
   "outputs": [],
   "source": [
    "# Scale independent variables by dropping the dependent variable (sex)\n",
    "scaler = StandardScaler()\n",
    "scaler.fit(df.drop('species',axis=1))\n",
    "scaled_features = scaler.transform(df.drop('species',axis=1))"
   ]
  },
  {
   "cell_type": "code",
   "execution_count": 4,
   "id": "2333e7f4",
   "metadata": {},
   "outputs": [],
   "source": [
    "# Assign X and y variables\n",
    "X = scaled_features\n",
    "y = df['species']\n",
    "\n",
    "# Split data into test and training sets\n",
    "X_train, X_test, y_train, y_test = train_test_split(X, y, test_size=0.3, shuffle=True)"
   ]
  },
  {
   "cell_type": "code",
   "execution_count": 5,
   "id": "0ce7b4dc",
   "metadata": {},
   "outputs": [],
   "source": [
    "# Assign algorithm \n",
    "model = SVC()\n",
    "\n",
    "# Fit algorithm to data\n",
    "model.fit(X_train, y_train)\n",
    "\n",
    "# Run algorithm on test data to make predictions\n",
    "model_test = model.predict(X_test)"
   ]
  },
  {
   "cell_type": "code",
   "execution_count": 6,
   "id": "f30ac999",
   "metadata": {},
   "outputs": [
    {
     "name": "stdout",
     "output_type": "stream",
     "text": [
      "[[46  0  0]\n",
      " [ 1 19  0]\n",
      " [ 0  0 34]]\n",
      "              precision    recall  f1-score   support\n",
      "\n",
      "      Adelie       0.98      1.00      0.99        46\n",
      "   Chinstrap       1.00      0.95      0.97        20\n",
      "      Gentoo       1.00      1.00      1.00        34\n",
      "\n",
      "    accuracy                           0.99       100\n",
      "   macro avg       0.99      0.98      0.99       100\n",
      "weighted avg       0.99      0.99      0.99       100\n",
      "\n"
     ]
    }
   ],
   "source": [
    "# Evaluate predictions\n",
    "print(confusion_matrix(y_test, model_test)) \n",
    "print(classification_report(y_test, model_test))"
   ]
  },
  {
   "cell_type": "code",
   "execution_count": 7,
   "id": "c0786e27",
   "metadata": {},
   "outputs": [
    {
     "data": {
      "text/plain": [
       "array(['Adelie'], dtype=object)"
      ]
     },
     "execution_count": 7,
     "metadata": {},
     "output_type": "execute_result"
    }
   ],
   "source": [
    "# Data point to predict\n",
    "penguin = [\n",
    "\t39, #bill_length_mm\n",
    "\t18.5, #bill_depth_mm\n",
    "\t180, #flipper_length_mm \n",
    "\t3750, #body_mass_g\n",
    "\t0, #island_Biscoe    \n",
    "\t0, #island_Dream\n",
    "\t1, #island_Torgersen    \n",
    "\t1, #sex_Male\n",
    "\t0, #sex_Female\n",
    "]\n",
    "\n",
    "# Make prediction\n",
    "new_penguin = model.predict([penguin])\n",
    "new_penguin"
   ]
  },
  {
   "cell_type": "code",
   "execution_count": null,
   "id": "a93bf9f3",
   "metadata": {},
   "outputs": [],
   "source": []
  }
 ],
 "metadata": {
  "kernelspec": {
   "display_name": "Python 3 (ipykernel)",
   "language": "python",
   "name": "python3"
  },
  "language_info": {
   "codemirror_mode": {
    "name": "ipython",
    "version": 3
   },
   "file_extension": ".py",
   "mimetype": "text/x-python",
   "name": "python",
   "nbconvert_exporter": "python",
   "pygments_lexer": "ipython3",
   "version": "3.11.5"
  }
 },
 "nbformat": 4,
 "nbformat_minor": 5
}
